{
 "cells": [
  {
   "cell_type": "code",
   "execution_count": 102,
   "metadata": {},
   "outputs": [],
   "source": [
    "import numpy as np\n",
    "import pandas as pd\n",
    "import matplotlib.pyplot as plt\n",
    "from datetime import datetime\n",
    "import plotly.graph_objs as go\n",
    "import plotly.plotly as py"
   ]
  },
  {
   "cell_type": "markdown",
   "metadata": {},
   "source": [
    "# Texas real estate analysis:\n",
    "### I found some real estate data on Zillow for the San Antonio and Austin areas. \n",
    "\n",
    "## Questions I want to answer:\n",
    "\n",
    "### 1) Is it really better to sell in the summer?\n",
    "### 2) How long does it take for homes to sell in the San Antonio/Austin area?\n",
    "### 3) Are prices increasing overall? By how much?\n",
    "### 4) What are the average property values?"
   ]
  },
  {
   "cell_type": "code",
   "execution_count": 115,
   "metadata": {},
   "outputs": [],
   "source": [
    "# Importing my data\n",
    "days = pd.read_csv(\"DaysOnZillow_City.csv\")\n",
    "counts = pd.read_csv(\"Sale_Counts_Zip.csv\")\n",
    "prices = pd.read_csv(\"Sale_Prices_Zip.csv\")"
   ]
  },
  {
   "cell_type": "markdown",
   "metadata": {},
   "source": [
    "### How long does it take for homes to sell in Texas near Major cities?"
   ]
  },
  {
   "cell_type": "code",
   "execution_count": 53,
   "metadata": {},
   "outputs": [],
   "source": [
    "# Isolating just the texas data\n",
    "texas_days = days.loc[days['StateName'] == \"TX\"]"
   ]
  },
  {
   "cell_type": "code",
   "execution_count": 116,
   "metadata": {},
   "outputs": [
    {
     "data": {
      "text/html": [
       "<div>\n",
       "<style scoped>\n",
       "    .dataframe tbody tr th:only-of-type {\n",
       "        vertical-align: middle;\n",
       "    }\n",
       "\n",
       "    .dataframe tbody tr th {\n",
       "        vertical-align: top;\n",
       "    }\n",
       "\n",
       "    .dataframe thead th {\n",
       "        text-align: right;\n",
       "    }\n",
       "</style>\n",
       "<table border=\"1\" class=\"dataframe\">\n",
       "  <thead>\n",
       "    <tr style=\"text-align: right;\">\n",
       "      <th></th>\n",
       "      <th>SizeRank</th>\n",
       "      <th>RegionID</th>\n",
       "      <th>RegionName</th>\n",
       "      <th>RegionType</th>\n",
       "      <th>StateName</th>\n",
       "      <th>2010-01</th>\n",
       "      <th>2010-02</th>\n",
       "      <th>2010-03</th>\n",
       "      <th>2010-04</th>\n",
       "      <th>2010-05</th>\n",
       "      <th>...</th>\n",
       "      <th>2018-04</th>\n",
       "      <th>2018-05</th>\n",
       "      <th>2018-06</th>\n",
       "      <th>2018-07</th>\n",
       "      <th>2018-08</th>\n",
       "      <th>2018-09</th>\n",
       "      <th>2018-10</th>\n",
       "      <th>2018-11</th>\n",
       "      <th>2018-12</th>\n",
       "      <th>2019-01</th>\n",
       "    </tr>\n",
       "  </thead>\n",
       "  <tbody>\n",
       "    <tr>\n",
       "      <th>3</th>\n",
       "      <td>4</td>\n",
       "      <td>39051</td>\n",
       "      <td>Houston</td>\n",
       "      <td>City</td>\n",
       "      <td>TX</td>\n",
       "      <td>141.0</td>\n",
       "      <td>142.0</td>\n",
       "      <td>143.0</td>\n",
       "      <td>120.0</td>\n",
       "      <td>95.0</td>\n",
       "      <td>...</td>\n",
       "      <td>66.0</td>\n",
       "      <td>65.0</td>\n",
       "      <td>69.0</td>\n",
       "      <td>73.0</td>\n",
       "      <td>70.0</td>\n",
       "      <td>78.0</td>\n",
       "      <td>82.0</td>\n",
       "      <td>91.0</td>\n",
       "      <td>91.0</td>\n",
       "      <td>94.0</td>\n",
       "    </tr>\n",
       "    <tr>\n",
       "      <th>4</th>\n",
       "      <td>5</td>\n",
       "      <td>6915</td>\n",
       "      <td>San Antonio</td>\n",
       "      <td>City</td>\n",
       "      <td>TX</td>\n",
       "      <td>100.0</td>\n",
       "      <td>103.0</td>\n",
       "      <td>116.5</td>\n",
       "      <td>115.0</td>\n",
       "      <td>109.0</td>\n",
       "      <td>...</td>\n",
       "      <td>58.0</td>\n",
       "      <td>56.0</td>\n",
       "      <td>56.0</td>\n",
       "      <td>56.0</td>\n",
       "      <td>58.0</td>\n",
       "      <td>61.0</td>\n",
       "      <td>67.0</td>\n",
       "      <td>76.0</td>\n",
       "      <td>72.0</td>\n",
       "      <td>78.0</td>\n",
       "    </tr>\n",
       "    <tr>\n",
       "      <th>9</th>\n",
       "      <td>10</td>\n",
       "      <td>38128</td>\n",
       "      <td>Dallas</td>\n",
       "      <td>City</td>\n",
       "      <td>TX</td>\n",
       "      <td>136.0</td>\n",
       "      <td>159.0</td>\n",
       "      <td>128.0</td>\n",
       "      <td>119.0</td>\n",
       "      <td>112.0</td>\n",
       "      <td>...</td>\n",
       "      <td>55.0</td>\n",
       "      <td>56.0</td>\n",
       "      <td>60.0</td>\n",
       "      <td>64.0</td>\n",
       "      <td>68.0</td>\n",
       "      <td>69.0</td>\n",
       "      <td>70.0</td>\n",
       "      <td>69.0</td>\n",
       "      <td>76.0</td>\n",
       "      <td>79.0</td>\n",
       "    </tr>\n",
       "    <tr>\n",
       "      <th>11</th>\n",
       "      <td>12</td>\n",
       "      <td>10221</td>\n",
       "      <td>Austin</td>\n",
       "      <td>City</td>\n",
       "      <td>TX</td>\n",
       "      <td>105.0</td>\n",
       "      <td>123.0</td>\n",
       "      <td>109.0</td>\n",
       "      <td>81.0</td>\n",
       "      <td>83.0</td>\n",
       "      <td>...</td>\n",
       "      <td>49.0</td>\n",
       "      <td>47.0</td>\n",
       "      <td>50.0</td>\n",
       "      <td>54.0</td>\n",
       "      <td>57.0</td>\n",
       "      <td>57.0</td>\n",
       "      <td>65.0</td>\n",
       "      <td>69.0</td>\n",
       "      <td>67.0</td>\n",
       "      <td>79.0</td>\n",
       "    </tr>\n",
       "    <tr>\n",
       "      <th>16</th>\n",
       "      <td>17</td>\n",
       "      <td>18172</td>\n",
       "      <td>Fort Worth</td>\n",
       "      <td>City</td>\n",
       "      <td>TX</td>\n",
       "      <td>116.5</td>\n",
       "      <td>115.0</td>\n",
       "      <td>111.0</td>\n",
       "      <td>102.5</td>\n",
       "      <td>100.0</td>\n",
       "      <td>...</td>\n",
       "      <td>47.0</td>\n",
       "      <td>49.0</td>\n",
       "      <td>48.0</td>\n",
       "      <td>48.0</td>\n",
       "      <td>51.0</td>\n",
       "      <td>54.0</td>\n",
       "      <td>61.0</td>\n",
       "      <td>60.0</td>\n",
       "      <td>71.5</td>\n",
       "      <td>73.5</td>\n",
       "    </tr>\n",
       "  </tbody>\n",
       "</table>\n",
       "<p>5 rows × 114 columns</p>\n",
       "</div>"
      ],
      "text/plain": [
       "    SizeRank  RegionID   RegionName RegionType StateName  2010-01  2010-02  \\\n",
       "3          4     39051      Houston       City        TX    141.0    142.0   \n",
       "4          5      6915  San Antonio       City        TX    100.0    103.0   \n",
       "9         10     38128       Dallas       City        TX    136.0    159.0   \n",
       "11        12     10221       Austin       City        TX    105.0    123.0   \n",
       "16        17     18172   Fort Worth       City        TX    116.5    115.0   \n",
       "\n",
       "    2010-03  2010-04  2010-05   ...     2018-04  2018-05  2018-06  2018-07  \\\n",
       "3     143.0    120.0     95.0   ...        66.0     65.0     69.0     73.0   \n",
       "4     116.5    115.0    109.0   ...        58.0     56.0     56.0     56.0   \n",
       "9     128.0    119.0    112.0   ...        55.0     56.0     60.0     64.0   \n",
       "11    109.0     81.0     83.0   ...        49.0     47.0     50.0     54.0   \n",
       "16    111.0    102.5    100.0   ...        47.0     49.0     48.0     48.0   \n",
       "\n",
       "    2018-08  2018-09  2018-10  2018-11  2018-12  2019-01  \n",
       "3      70.0     78.0     82.0     91.0     91.0     94.0  \n",
       "4      58.0     61.0     67.0     76.0     72.0     78.0  \n",
       "9      68.0     69.0     70.0     69.0     76.0     79.0  \n",
       "11     57.0     57.0     65.0     69.0     67.0     79.0  \n",
       "16     51.0     54.0     61.0     60.0     71.5     73.5  \n",
       "\n",
       "[5 rows x 114 columns]"
      ]
     },
     "execution_count": 116,
     "metadata": {},
     "output_type": "execute_result"
    }
   ],
   "source": [
    "# Oh man....why are there so many columns?\n",
    "\n",
    "# I'm going to have to clean this data up\n",
    "texas_days.head()"
   ]
  },
  {
   "cell_type": "code",
   "execution_count": 55,
   "metadata": {},
   "outputs": [],
   "source": [
    "# converting the column names past the first 5 to a list\n",
    "cols = texas_days.columns[5:].tolist()"
   ]
  },
  {
   "cell_type": "code",
   "execution_count": 56,
   "metadata": {},
   "outputs": [],
   "source": [
    "# using melt, condensing all of the data into three columns\n",
    "cond_TX = pd.melt(texas_days, id_vars=['RegionName'], value_vars=cols)"
   ]
  },
  {
   "cell_type": "code",
   "execution_count": 57,
   "metadata": {},
   "outputs": [
    {
     "data": {
      "text/html": [
       "<div>\n",
       "<style scoped>\n",
       "    .dataframe tbody tr th:only-of-type {\n",
       "        vertical-align: middle;\n",
       "    }\n",
       "\n",
       "    .dataframe tbody tr th {\n",
       "        vertical-align: top;\n",
       "    }\n",
       "\n",
       "    .dataframe thead th {\n",
       "        text-align: right;\n",
       "    }\n",
       "</style>\n",
       "<table border=\"1\" class=\"dataframe\">\n",
       "  <thead>\n",
       "    <tr style=\"text-align: right;\">\n",
       "      <th></th>\n",
       "      <th>RegionName</th>\n",
       "      <th>variable</th>\n",
       "      <th>value</th>\n",
       "    </tr>\n",
       "  </thead>\n",
       "  <tbody>\n",
       "    <tr>\n",
       "      <th>0</th>\n",
       "      <td>Houston</td>\n",
       "      <td>2010-01</td>\n",
       "      <td>141.0</td>\n",
       "    </tr>\n",
       "    <tr>\n",
       "      <th>1</th>\n",
       "      <td>San Antonio</td>\n",
       "      <td>2010-01</td>\n",
       "      <td>100.0</td>\n",
       "    </tr>\n",
       "    <tr>\n",
       "      <th>2</th>\n",
       "      <td>Dallas</td>\n",
       "      <td>2010-01</td>\n",
       "      <td>136.0</td>\n",
       "    </tr>\n",
       "    <tr>\n",
       "      <th>3</th>\n",
       "      <td>Austin</td>\n",
       "      <td>2010-01</td>\n",
       "      <td>105.0</td>\n",
       "    </tr>\n",
       "    <tr>\n",
       "      <th>4</th>\n",
       "      <td>Fort Worth</td>\n",
       "      <td>2010-01</td>\n",
       "      <td>116.5</td>\n",
       "    </tr>\n",
       "  </tbody>\n",
       "</table>\n",
       "</div>"
      ],
      "text/plain": [
       "    RegionName variable  value\n",
       "0      Houston  2010-01  141.0\n",
       "1  San Antonio  2010-01  100.0\n",
       "2       Dallas  2010-01  136.0\n",
       "3       Austin  2010-01  105.0\n",
       "4   Fort Worth  2010-01  116.5"
      ]
     },
     "execution_count": 57,
     "metadata": {},
     "output_type": "execute_result"
    }
   ],
   "source": [
    "# Hmmmmm....better. But I need to split the \"variable\" column into year and month or maybe just parse it into a date.\n",
    "cond_TX.head()"
   ]
  },
  {
   "cell_type": "code",
   "execution_count": 59,
   "metadata": {},
   "outputs": [],
   "source": [
    "# Parsing the date\n",
    "cond_TX['variable'] = pd.to_datetime(cond_TX['variable'], format='%Y-%m')"
   ]
  },
  {
   "cell_type": "code",
   "execution_count": 119,
   "metadata": {},
   "outputs": [
    {
     "data": {
      "text/plain": [
       "RegionName            object\n",
       "variable      datetime64[ns]\n",
       "value                float64\n",
       "dtype: object"
      ]
     },
     "execution_count": 119,
     "metadata": {},
     "output_type": "execute_result"
    }
   ],
   "source": [
    "cond_TX.dtypes"
   ]
  },
  {
   "cell_type": "code",
   "execution_count": 120,
   "metadata": {},
   "outputs": [],
   "source": [
    "# renaming the variable column\n",
    "# df = df.rename(columns={'oldName1': 'newName1', 'oldName2': 'newName2'})\n",
    "tx = cond_TX.rename(columns={\"variable\": \"Year_month\", \"value\": 'Days'})"
   ]
  },
  {
   "cell_type": "code",
   "execution_count": 124,
   "metadata": {},
   "outputs": [
    {
     "name": "stdout",
     "output_type": "stream",
     "text": [
      "RegionName    117\n",
      "Year_month    117\n",
      "Days          117\n",
      "dtype: int64\n"
     ]
    }
   ],
   "source": [
    "# How man unique cities do I have here?\n",
    "\n",
    "len(tx)\n",
    "unique = tx.groupby('RegionName').nunique()\n",
    "print(unique.count())"
   ]
  },
  {
   "cell_type": "code",
   "execution_count": 129,
   "metadata": {},
   "outputs": [],
   "source": [
    "# this is a lot of data and I'm only interested in essentially the I-35 cooridor\n",
    "\n",
    "array = ['Austin', 'Round Rock', 'Kyle', \"Buda\", \"San Marcos\", \"New Braunfels\", \"Universal City\", \"Cibolo\", \"Shertz\", \n",
    "        \"Live Oak\", \"Selma\", \"San Antonio\", \"Cedar Park\", \"Bee Cave\", \"Pflugerville\", \"Boerne\"]\n",
    "tx = tx.loc[tx['RegionName'].isin(array)]"
   ]
  },
  {
   "cell_type": "code",
   "execution_count": 79,
   "metadata": {},
   "outputs": [
    {
     "data": {
      "text/html": [
       "<div>\n",
       "<style scoped>\n",
       "    .dataframe tbody tr th:only-of-type {\n",
       "        vertical-align: middle;\n",
       "    }\n",
       "\n",
       "    .dataframe tbody tr th {\n",
       "        vertical-align: top;\n",
       "    }\n",
       "\n",
       "    .dataframe thead th {\n",
       "        text-align: right;\n",
       "    }\n",
       "</style>\n",
       "<table border=\"1\" class=\"dataframe\">\n",
       "  <thead>\n",
       "    <tr style=\"text-align: right;\">\n",
       "      <th></th>\n",
       "      <th>RegionName</th>\n",
       "      <th>Year_month</th>\n",
       "      <th>Days</th>\n",
       "    </tr>\n",
       "    <tr>\n",
       "      <th>RegionName</th>\n",
       "      <th></th>\n",
       "      <th></th>\n",
       "      <th></th>\n",
       "    </tr>\n",
       "  </thead>\n",
       "  <tbody>\n",
       "    <tr>\n",
       "      <th>Austin</th>\n",
       "      <td>1</td>\n",
       "      <td>109</td>\n",
       "      <td>59</td>\n",
       "    </tr>\n",
       "    <tr>\n",
       "      <th>Boerne</th>\n",
       "      <td>1</td>\n",
       "      <td>109</td>\n",
       "      <td>10</td>\n",
       "    </tr>\n",
       "    <tr>\n",
       "      <th>Cedar Park</th>\n",
       "      <td>1</td>\n",
       "      <td>109</td>\n",
       "      <td>69</td>\n",
       "    </tr>\n",
       "    <tr>\n",
       "      <th>Cibolo</th>\n",
       "      <td>1</td>\n",
       "      <td>109</td>\n",
       "      <td>31</td>\n",
       "    </tr>\n",
       "    <tr>\n",
       "      <th>Kyle</th>\n",
       "      <td>1</td>\n",
       "      <td>109</td>\n",
       "      <td>67</td>\n",
       "    </tr>\n",
       "    <tr>\n",
       "      <th>New Braunfels</th>\n",
       "      <td>1</td>\n",
       "      <td>109</td>\n",
       "      <td>29</td>\n",
       "    </tr>\n",
       "    <tr>\n",
       "      <th>Round Rock</th>\n",
       "      <td>1</td>\n",
       "      <td>109</td>\n",
       "      <td>39</td>\n",
       "    </tr>\n",
       "    <tr>\n",
       "      <th>San Antonio</th>\n",
       "      <td>1</td>\n",
       "      <td>109</td>\n",
       "      <td>61</td>\n",
       "    </tr>\n",
       "    <tr>\n",
       "      <th>Universal City</th>\n",
       "      <td>1</td>\n",
       "      <td>109</td>\n",
       "      <td>11</td>\n",
       "    </tr>\n",
       "  </tbody>\n",
       "</table>\n",
       "</div>"
      ],
      "text/plain": [
       "                RegionName  Year_month  Days\n",
       "RegionName                                  \n",
       "Austin                   1         109    59\n",
       "Boerne                   1         109    10\n",
       "Cedar Park               1         109    69\n",
       "Cibolo                   1         109    31\n",
       "Kyle                     1         109    67\n",
       "New Braunfels            1         109    29\n",
       "Round Rock               1         109    39\n",
       "San Antonio              1         109    61\n",
       "Universal City           1         109    11"
      ]
     },
     "execution_count": 79,
     "metadata": {},
     "output_type": "execute_result"
    }
   ],
   "source": [
    "# All of the cities in the original data along the I=35 cooridor\n",
    "tx.groupby('RegionName').nunique()"
   ]
  },
  {
   "cell_type": "code",
   "execution_count": 125,
   "metadata": {},
   "outputs": [
    {
     "data": {
      "text/plain": [
       "<matplotlib.axes._subplots.AxesSubplot at 0x11d1a8e10>"
      ]
     },
     "execution_count": 125,
     "metadata": {},
     "output_type": "execute_result"
    },
    {
     "data": {
      "image/png": "[encoded data removed]",
      "text/plain": [
       "<Figure size 432x288 with 1 Axes>"
      ]
     },
     "metadata": {},
     "output_type": "display_data"
    },
    {
     "data": {
      "image/png": "[encoded data removed]",
      "text/plain": [
       "<Figure size 432x288 with 1 Axes>"
      ]
     },
     "metadata": {},
     "output_type": "display_data"
    },
    {
     "data": {
      "image/png": "[encoded data removed]",
      "text/plain": [
       "<Figure size 432x288 with 1 Axes>"
      ]
     },
     "metadata": {},
     "output_type": "display_data"
    }
   ],
   "source": [
    "# I'm going to filter out each individual city and then plot the average number of days on the market per city.\n",
    "tx = tx.sort_values('Year_month', ascending=True)\n",
    "\n",
    "austin = tx.loc[tx['RegionName'] == \"Austin\"]\n",
    "boerne = tx.loc[tx['RegionName'] == \"Boerne\"]\n",
    "cp = tx.loc[tx['RegionName'] == \"Cedar Park\"]\n",
    "cibolo = tx.loc[tx['RegionName'] == \"Cibolo\"]\n",
    "kyle = tx.loc[tx['RegionName'] == \"Kyle\"]\n",
    "nb = tx.loc[tx['RegionName'] == \"New Braunfels\"]\n",
    "rr = tx.loc[tx['RegionName'] == \"Round Rock\"]\n",
    "sa = tx.loc[tx['RegionName'] == \"San Antonio\"]\n",
    "uc = tx.loc[tx['RegionName'] == \"Universal City\"]\n",
    "\n",
    "\n",
    "austin.plot('Year_month', 'Days')\n",
    "nb.plot('Year_month', 'Days', color='orange')\n",
    "uc.plot('Year_month', 'Days', color='green')"
   ]
  },
  {
   "cell_type": "code",
   "execution_count": 126,
   "metadata": {},
   "outputs": [
    {
     "data": {
      "text/plain": [
       "<matplotlib.legend.Legend at 0x119eccb38>"
      ]
     },
     "execution_count": 126,
     "metadata": {},
     "output_type": "execute_result"
    },
    {
     "data": {
      "image/png": "[encoded data removed]",
      "text/plain": [
       "<Figure size 432x288 with 1 Axes>"
      ]
     },
     "metadata": {},
     "output_type": "display_data"
    }
   ],
   "source": [
    "# Doing individual graphs isn't the best way to do this. I want them on one graph.\n",
    "\n",
    "\n",
    "ax = austin.plot('Year_month', 'Days', label='Austin')\n",
    "nb.plot('Year_month', 'Days', color='orange', ax=ax, label='NewBraunfels')\n",
    "boerne.plot('Year_month', 'Days', color='green', ax=ax, label='Boerne')\n",
    "cp.plot('Year_month', 'Days', color='red', ax=ax, label='CedarPark')\n",
    "cibolo.plot('Year_month', 'Days', color='pink', ax=ax, label='Cibolo')\n",
    "kyle.plot('Year_month', 'Days', color='purple', ax=ax, label='Kyle')\n",
    "rr.plot('Year_month', 'Days', color='black', ax=ax, label='RoundRock')\n",
    "sa.plot('Year_month', 'Days', color='yellow', ax=ax, label='San Antonio')\n",
    "uc.plot('Year_month', 'Days', color='aquamarine', ax=ax, label='Universal City')\n",
    "\n",
    "ax.legend(bbox_to_anchor=(1.05, 1), loc=2, borderaxespad=0.)"
   ]
  },
  {
   "cell_type": "markdown",
   "metadata": {},
   "source": [
    "### Hmmm looks like the least number of days typically occurs around March to Sept timeframe. Most likely due to warmer months and no school.  And it looks like the number average number of days on the market has been dropping since 2012-ish.\n",
    "\n",
    "### Is it better to see in the summer? According to this data, yes!"
   ]
  },
  {
   "cell_type": "code",
   "execution_count": 145,
   "metadata": {},
   "outputs": [
    {
     "name": "stdout",
     "output_type": "stream",
     "text": [
      "Average number of days overall in I-35 cooridor: 76.25\n"
     ]
    }
   ],
   "source": [
    "# Ok, so how long does is take on average to sell a home overall, and per city?\n",
    "all_avg = tx['Days'].mean()\n",
    "print(f\"Average number of days overall in I-35 cooridor: {all_avg:.2f}\")"
   ]
  },
  {
   "cell_type": "code",
   "execution_count": 127,
   "metadata": {},
   "outputs": [
    {
     "data": {
      "text/html": [
       "<div>\n",
       "<style scoped>\n",
       "    .dataframe tbody tr th:only-of-type {\n",
       "        vertical-align: middle;\n",
       "    }\n",
       "\n",
       "    .dataframe tbody tr th {\n",
       "        vertical-align: top;\n",
       "    }\n",
       "\n",
       "    .dataframe thead th {\n",
       "        text-align: right;\n",
       "    }\n",
       "</style>\n",
       "<table border=\"1\" class=\"dataframe\">\n",
       "  <thead>\n",
       "    <tr style=\"text-align: right;\">\n",
       "      <th></th>\n",
       "      <th>RegionName</th>\n",
       "      <th>Year_month</th>\n",
       "      <th>Days</th>\n",
       "    </tr>\n",
       "  </thead>\n",
       "  <tbody>\n",
       "    <tr>\n",
       "      <th>0</th>\n",
       "      <td>Houston</td>\n",
       "      <td>2010-01-01</td>\n",
       "      <td>141.0</td>\n",
       "    </tr>\n",
       "    <tr>\n",
       "      <th>85</th>\n",
       "      <td>Deer Park</td>\n",
       "      <td>2010-01-01</td>\n",
       "      <td>NaN</td>\n",
       "    </tr>\n",
       "    <tr>\n",
       "      <th>84</th>\n",
       "      <td>La Porte</td>\n",
       "      <td>2010-01-01</td>\n",
       "      <td>NaN</td>\n",
       "    </tr>\n",
       "    <tr>\n",
       "      <th>83</th>\n",
       "      <td>Leander</td>\n",
       "      <td>2010-01-01</td>\n",
       "      <td>NaN</td>\n",
       "    </tr>\n",
       "    <tr>\n",
       "      <th>82</th>\n",
       "      <td>Greenville</td>\n",
       "      <td>2010-01-01</td>\n",
       "      <td>NaN</td>\n",
       "    </tr>\n",
       "  </tbody>\n",
       "</table>\n",
       "</div>"
      ],
      "text/plain": [
       "    RegionName Year_month   Days\n",
       "0      Houston 2010-01-01  141.0\n",
       "85   Deer Park 2010-01-01    NaN\n",
       "84    La Porte 2010-01-01    NaN\n",
       "83     Leander 2010-01-01    NaN\n",
       "82  Greenville 2010-01-01    NaN"
      ]
     },
     "execution_count": 127,
     "metadata": {},
     "output_type": "execute_result"
    }
   ],
   "source": [
    "tx.head()"
   ]
  },
  {
   "cell_type": "code",
   "execution_count": 150,
   "metadata": {},
   "outputs": [
    {
     "name": "stdout",
     "output_type": "stream",
     "text": [
      "Average number of days properties stay on the market in Austin: 73.23\n",
      "Average number of days properties stay on the market in New Braunfels: 84.44\n",
      "Average number of days properties stay on the market in Boerne: 100.35\n",
      "Average number of days properties stay on the market in Cedar Park: 74.14\n",
      "Average number of days properties stay on the market in Cibolo: 78.88\n",
      "Average number of days properties stay on the market in Kyle: 74.29\n",
      "Average number of days properties stay on the market in Round Rock: 60.00\n",
      "Average number of days properties stay on the market in San Antonio: 87.94\n",
      "Average number of days properties stay on the market in Universal City: 59.83\n"
     ]
    }
   ],
   "source": [
    "austin_avg = austin[\"Days\"].mean()\n",
    "print(f\"Average number of days properties stay on the market in Austin: {austin_avg:.2f}\")\n",
    "\n",
    "nb_avg = nb[\"Days\"].mean()\n",
    "print(f\"Average number of days properties stay on the market in New Braunfels: {nb_avg:.2f}\")\n",
    "\n",
    "boerne_avg = boerne[\"Days\"].mean()\n",
    "print(f\"Average number of days properties stay on the market in Boerne: {boerne_avg:.2f}\")\n",
    "\n",
    "cp_avg = cp[\"Days\"].mean()\n",
    "print(f\"Average number of days properties stay on the market in Cedar Park: {cp_avg:.2f}\")\n",
    "\n",
    "cibolo_avg = cibolo[\"Days\"].mean()\n",
    "print(f\"Average number of days properties stay on the market in Cibolo: {cibolo_avg:.2f}\")\n",
    "\n",
    "kyle_avg = kyle[\"Days\"].mean()\n",
    "print(f\"Average number of days properties stay on the market in Kyle: {kyle_avg:.2f}\")\n",
    "\n",
    "rr_avg = rr[\"Days\"].mean()\n",
    "print(f\"Average number of days properties stay on the market in Round Rock: {rr_avg:.2f}\")\n",
    "\n",
    "sa_avg = sa[\"Days\"].mean()\n",
    "print(f\"Average number of days properties stay on the market in San Antonio: {sa_avg:.2f}\")\n",
    "\n",
    "uc_avg = uc[\"Days\"].mean()\n",
    "print(f\"Average number of days properties stay on the market in Universal City: {uc_avg:.2f}\")"
   ]
  },
  {
   "cell_type": "markdown",
   "metadata": {},
   "source": [
    "### Looks like it takes less time to sell a house in Universal City. And much longer to sell in Boerne. "
   ]
  },
  {
   "cell_type": "markdown",
   "metadata": {},
   "source": [
    "## But what if I want to buy a place? How are the pri"
   ]
  }
 ],
 "metadata": {
  "kernelspec": {
   "display_name": "Python [conda env:PythonData]",
   "language": "python",
   "name": "conda-env-PythonData-py"
  },
  "language_info": {
   "codemirror_mode": {
    "name": "ipython",
    "version": 3
   },
   "file_extension": ".py",
   "mimetype": "text/x-python",
   "name": "python",
   "nbconvert_exporter": "python",
   "pygments_lexer": "ipython3",
   "version": "3.6.4"
  }
 },
 "nbformat": 4,
 "nbformat_minor": 2
}
